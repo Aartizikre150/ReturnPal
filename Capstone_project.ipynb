{
  "nbformat": 4,
  "nbformat_minor": 0,
  "metadata": {
    "colab": {
      "provenance": [],
      "cell_execution_strategy": "setup",
      "authorship_tag": "ABX9TyOXVg7tQjr3bNWJ9pBSaNlT",
      "include_colab_link": true
    },
    "kernelspec": {
      "name": "python3",
      "display_name": "Python 3"
    },
    "language_info": {
      "name": "python"
    }
  },
  "cells": [
    {
      "cell_type": "markdown",
      "metadata": {
        "id": "view-in-github",
        "colab_type": "text"
      },
      "source": [
        "<a href=\"https://colab.research.google.com/github/Aartizikre150/ReturnPal/blob/main/Capstone_project.ipynb\" target=\"_parent\"><img src=\"https://colab.research.google.com/assets/colab-badge.svg\" alt=\"Open In Colab\"/></a>"
      ]
    },
    {
      "cell_type": "markdown",
      "source": [
        "**Gender Distribution:**\n",
        "\n",
        "Female: 53.5% of 100 = 53.5\n",
        "\n",
        "Male: 46.5% of 100 = 46.5\n",
        "\n",
        "\n",
        "**Age Distribution within each Gender:**\n",
        "\n",
        "**For Females:**\n",
        "\n",
        "18-24 years: 13.9% of 53.5\n",
        "\n",
        "25-34 years: 25.9% of 53.5\n",
        "\n",
        "35-44 years: 21.4% of 53.5\n",
        "\n",
        "45-54 years: 20.7% of 53.5\n",
        "\n",
        "55-64 years: 18.2% of 53.5\n",
        "\n",
        "**For Males:**\n",
        "\n",
        "18-24 years: 13.9% of 46.5\n",
        "\n",
        "25-34 years: 25.9% of 46.5\n",
        "\n",
        "35-44 years: 21.4% of 46.5\n",
        "\n",
        "45-54 years: 20.7% of 46.5\n",
        "\n",
        "55-64 years: 18.2% of 46.5\n",
        "\n",
        "Now, calculate the actual numbers:\n",
        "\n",
        "**Female:**\n",
        "\n",
        "18-24 years: 0.139 * 53.5 = 7.4265\n",
        "\n",
        "25-34 years: 0.259 * 53.5 = 13.8585\n",
        "\n",
        "35-44 years: 0.214 * 53.5 = 11.429\n",
        "\n",
        "45-54 years: 0.207 * 53.5 = 11.0845\n",
        "\n",
        "55-64 years: 0.182 * 53.5 = 9.737\n",
        "\n",
        "**Male:**\n",
        "\n",
        "18-24 years: 0.139 * 46.5 = 6.4635\n",
        "\n",
        "25-34 years: 0.259 * 46.5 = 12.0135\n",
        "\n",
        "35-44 years: 0.214 * 46.5 = 9.951\n",
        "\n",
        "45-54 years: 0.207 * 46.5 = 9.6015\n",
        "\n",
        "55-64 years: 0.182 * 46.5 = 8.467\n",
        "\n",
        "So, the predicted gender-wise age distribution for 2023 would be:\n",
        "\n",
        "**Female:**\n",
        "\n",
        "18-24 years: ~7.43\n",
        "\n",
        "25-34 years: ~13.86\n",
        "\n",
        "35-44 years: ~11.43\n",
        "\n",
        "45-54 years: ~11.08\n",
        "\n",
        "55-64 years: ~9.74\n",
        "\n",
        "\n",
        "**Male:**\n",
        "\n",
        "18-24 years: ~6.46\n",
        "\n",
        "25-34 years: ~12.01\n",
        "\n",
        "35-44 years: ~9.95\n",
        "\n",
        "45-54 years: ~9.60\n",
        "\n",
        "55-64 years: ~8.47"
      ],
      "metadata": {
        "id": "AXKlFQp4Fsg7"
      }
    },
    {
      "cell_type": "code",
      "execution_count": null,
      "metadata": {
        "colab": {
          "base_uri": "https://localhost:8080/"
        },
        "id": "Qa85ieOJExcP",
        "outputId": "e0c93bc5-378c-4ac7-e563-f6bf8dcb299f"
      },
      "outputs": [
        {
          "output_type": "stream",
          "name": "stdout",
          "text": [
            "Predicted Gender-wise Age Distribution for 2023:\n",
            "Female:\n",
            "18-24 years: 7.44\n",
            "25-34 years: 13.86\n",
            "35-44 years: 11.45\n",
            "45-54 years: 11.07\n",
            "55-64 years: 9.74\n",
            "\n",
            "Male:\n",
            "18-24 years: 6.46\n",
            "25-34 years: 12.04\n",
            "35-44 years: 9.95\n",
            "45-54 years: 9.63\n",
            "55-64 years: 8.46\n"
          ]
        }
      ],
      "source": [
        "# Define the total population\n",
        "total_population = 100\n",
        "\n",
        "# Gender distribution percentages\n",
        "female_percentage = 53.5\n",
        "male_percentage = 46.5\n",
        "\n",
        "# Age distribution percentages within each gender\n",
        "age_distribution_female = {\n",
        "    '18-24': 13.9,\n",
        "    '25-34': 25.9,\n",
        "    '35-44': 21.4,\n",
        "    '45-54': 20.7,\n",
        "    '55-64': 18.2,\n",
        "}\n",
        "\n",
        "age_distribution_male = {\n",
        "    '18-24': 13.9,\n",
        "    '25-34': 25.9,\n",
        "    '35-44': 21.4,\n",
        "    '45-54': 20.7,\n",
        "    '55-64': 18.2,\n",
        "}\n",
        "\n",
        "# Calculate the actual numbers\n",
        "female_population = total_population * (female_percentage / 100)\n",
        "male_population = total_population * (male_percentage / 100)\n",
        "\n",
        "female_age_distribution = {age: (percentage / 100) * female_population for age, percentage in age_distribution_female.items()}\n",
        "male_age_distribution = {age: (percentage / 100) * male_population for age, percentage in age_distribution_male.items()}\n",
        "\n",
        "# Display the results\n",
        "print(\"Predicted Gender-wise Age Distribution for 2023:\")\n",
        "print(\"Female:\")\n",
        "for age, population in female_age_distribution.items():\n",
        "    print(f\"{age} years: {population:.2f}\")\n",
        "\n",
        "print(\"\\nMale:\")\n",
        "for age, population in male_age_distribution.items():\n",
        "    print(f\"{age} years: {population:.2f}\")\n"
      ]
    },
    {
      "cell_type": "code",
      "source": [],
      "metadata": {
        "id": "VPNgR_qhFLvE"
      },
      "execution_count": null,
      "outputs": []
    }
  ]
}